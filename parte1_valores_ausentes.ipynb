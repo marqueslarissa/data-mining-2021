{
 "cells": [
  {
   "cell_type": "markdown",
   "id": "3c9ec09a-2331-497b-a90b-3132ae2d790d",
   "metadata": {},
   "source": [
    "# Pré processamento da coleção de dados\n",
    "\n",
    "Aplicação de técnicas de pré processamento de dados para ser possível uma pré-análise dos dados enquanto ocore a transformação para dados padronizados e normalizados.\n",
    "\n",
    "## Lidando com valores ausentes (missing values)\n",
    "Dados ausentes talvez sejam a característica mais comum de dados impuros. Esses valores geralmente assumem a forma de NaN ou None.\n",
    "\n",
    "Existem várias maneiras de preencher os valores ausentes:\n",
    "\n",
    "* Remover as linhas com os dados se seu conjunto de dados for grande o suficiente e a porcentagem de valores ausentes for alta (mais de 50%, por exemplo);\n",
    "* Preencher todas as variáveis nulas com 0 para lidar com valores numéricos;\n",
    "* Usar alguma biblioteca (ex: classe SimpleImputer da biblioteca scikit-learn) para preencher os valores ausentes com os dados (média, mediana, moda) para atributos discretos;\n",
    "* Usar alguma biblioteca (ex: OrdenalEncoder e OneHotEncoder da biblioteca scikit-learn) para preencher os valores categóricos em numéricos e em seguida criar atributos \"fictícios\";\n",
    "    * Ou seja, uma coluna será substituída por uma coluna para cada uma das variáveis categóricas que tinha na coluna original e com 1s e 0s substituindo as variáveis categóricas.\n",
    "    * É possível também utilizar o codificador de rótulo se houver variáveis categóricas como \"sim\" e \"não\".\n",
    "* Preencher os valores ausentes com qualquer valor que vier diretamente depois deles na mesma coluna.\n",
    "\n",
    "Essas decisões dependem do tipo de dados, do deseja-se fazer com os dados e da causa dos valores ausentes. Na verdade, só porque algo é popular não significa necessariamente que seja a escolha certa. A estratégia <b>mais comum</b> é usar o valor médio, mas dependendo de seus dados, você pode chegar a uma abordagem totalmente diferente.\n",
    "\n",
    "> Média é a estratégia padrão, então não é necessário realmente especificar isso, mas está aqui para ter uma ideia de quais informações pode-se desejar incluir. Os valores padrão para missing_values é nan. Se o conjunto de dados tiver valores ausentes chamados \"NaN\", permaneceremos com np.nan no parâmetro. <b>Conferir a documentação oficial [aqui](https://scikit-learn.org/stable/modules/generated/sklearn.impute.SimpleImputer.html)!</b>"
   ]
  },
  {
   "cell_type": "markdown",
   "id": "05ca91d0-8a2f-4f07-adad-0b70aeefa041",
   "metadata": {},
   "source": [
    "# Parte 1 - Tipos de Dados e Valores Ausentes\n",
    "\n",
    "\n",
    "* Drop colunas que possui pelo menos 30% de valores não nulos (drop = True, fill = False)\n",
    "* Ou preencha os valores ausentes com o valor médio das colunas numericas e drop as linhas que tenha valores ausentes das colunas categoricas (drop = False, fill = True)\n",
    "* Ou faça ambos (drop = False, fill = False)\n",
    "\n",
    "> Obs. Se ambos os parâmetros forem passados como True, será feita somente a primeira condição (sic: drop = True, fill = False)"
   ]
  },
  {
   "cell_type": "code",
   "execution_count": 1,
   "id": "6ef70422-dd61-434b-b30f-bad5b9e51043",
   "metadata": {},
   "outputs": [],
   "source": [
    "from fun_dependencies import *\n",
    "\n",
    "#load data\n",
    "df_interacao = load_data('dataset/Detail_Interaction.csv', sep=';')\n",
    "df_incidente = load_data('dataset/Detail_Incident.csv', sep=';')\n",
    "df_atividades_incidente = load_data('dataset/Detail_Incident_Activity.csv', sep=';')\n",
    "df_mudancas = load_data('dataset/Detail_Change.csv', sep=';')"
   ]
  },
  {
   "cell_type": "markdown",
   "id": "d711f3fb-8493-48e7-8e75-0d0f975fbcd3",
   "metadata": {},
   "source": [
    "### Tabela Interacao"
   ]
  },
  {
   "cell_type": "code",
   "execution_count": 2,
   "id": "17da83a6-5d5a-4182-b49b-071c448c65ca",
   "metadata": {},
   "outputs": [],
   "source": [
    "%%capture cap --no-stderr\n",
    "print(\"---------------------------------------Table: Interacao---------------------------------------\\n\")\n",
    "df_interacao = missing_treatment(df_interacao, drop=False, fill=False)"
   ]
  },
  {
   "cell_type": "code",
   "execution_count": 3,
   "id": "b8874f80-d0db-46c4-bd99-3836e783f476",
   "metadata": {},
   "outputs": [],
   "source": [
    "with open('output/output_pt1.txt', 'w') as f:\n",
    "    f.write(cap.stdout)"
   ]
  },
  {
   "cell_type": "markdown",
   "id": "18fa7a09-ef4f-420d-8294-a1845d6d8a6f",
   "metadata": {},
   "source": [
    "### Tabela Incidente"
   ]
  },
  {
   "cell_type": "code",
   "execution_count": 4,
   "id": "05b6305d-2c3f-4e6b-bd71-a87d5569ffc0",
   "metadata": {},
   "outputs": [],
   "source": [
    "%%capture cap --no-stderr\n",
    "print(\"---------------------------------------Table: Incidente---------------------------------------\\n\")\n",
    "df_incidente = missing_treatment(df_incidente, drop=False, fill=False)"
   ]
  },
  {
   "cell_type": "code",
   "execution_count": 5,
   "id": "e4080a21-08dc-46bf-a9f9-6afb4b638800",
   "metadata": {},
   "outputs": [],
   "source": [
    "with open('output/output_pt1.txt', 'a') as f:\n",
    "    f.write(cap.stdout)"
   ]
  },
  {
   "cell_type": "markdown",
   "id": "133ad256-3fb5-416f-9182-89186fb53f84",
   "metadata": {},
   "source": [
    "### Tabela Atividades Incidente"
   ]
  },
  {
   "cell_type": "code",
   "execution_count": 6,
   "id": "fb7e929c-9011-4f05-a190-dc3fca173c55",
   "metadata": {},
   "outputs": [],
   "source": [
    "%%capture cap --no-stderr\n",
    "print(\"---------------------------------------Table: Atividades Incidente---------------------------------------\\n\")\n",
    "df_atividades_incidente = missing_treatment(df_atividades_incidente, drop=False, fill=False)"
   ]
  },
  {
   "cell_type": "code",
   "execution_count": 7,
   "id": "8a17c318-f670-4979-9f39-e0c3bf40b786",
   "metadata": {},
   "outputs": [],
   "source": [
    "with open('output/output_pt1.txt', 'a') as f:\n",
    "    f.write(cap.stdout)"
   ]
  },
  {
   "cell_type": "markdown",
   "id": "cd7600ea-f21b-4bf0-b755-3ab62618cf1a",
   "metadata": {},
   "source": [
    "### Tabela Mudanças"
   ]
  },
  {
   "cell_type": "code",
   "execution_count": 8,
   "id": "23095f4f-2e3c-4710-bead-99952cc86dba",
   "metadata": {},
   "outputs": [],
   "source": [
    "%%capture cap --no-stderr\n",
    "print(\"---------------------------------------Table: Mudancas---------------------------------------\\n\")\n",
    "df_mudancas = missing_treatment(df_mudancas, drop=False, fill=False)"
   ]
  },
  {
   "cell_type": "code",
   "execution_count": 9,
   "id": "924ad601-4807-4521-bb3c-7d3fb0fb7d65",
   "metadata": {},
   "outputs": [],
   "source": [
    "with open('output/output_pt1.txt', 'a') as f:\n",
    "    f.write(cap.stdout)"
   ]
  },
  {
   "cell_type": "code",
   "execution_count": 10,
   "id": "eb47621a-b095-471e-b2a0-5b667315bf68",
   "metadata": {},
   "outputs": [],
   "source": [
    "df_interacao.to_csv('cleaning_dataset/pt1/Detail_Interaction_pt1.csv', sep=';', encoding='utf-8', index=False)\n",
    "df_incidente.to_csv('cleaning_dataset/pt1/Detail_Incident_pt1.csv', sep=';', encoding='utf-8', index=False)\n",
    "df_atividades_incidente.to_csv('cleaning_dataset/pt1/Detail_Incident_Activity_pt1.csv', sep=';', encoding='utf-8', index=False)\n",
    "df_mudancas.to_csv('cleaning_dataset/pt1/Detail_Change_pt1.csv', sep=';', encoding='utf-8', index=False)"
   ]
  }
 ],
 "metadata": {
  "environment": {
   "name": "common-cpu.m80",
   "type": "gcloud",
   "uri": "gcr.io/deeplearning-platform-release/base-cpu:m80"
  },
  "kernelspec": {
   "display_name": "Python 3",
   "language": "python",
   "name": "python3"
  },
  "language_info": {
   "codemirror_mode": {
    "name": "ipython",
    "version": 3
   },
   "file_extension": ".py",
   "mimetype": "text/x-python",
   "name": "python",
   "nbconvert_exporter": "python",
   "pygments_lexer": "ipython3",
   "version": "3.7.10"
  }
 },
 "nbformat": 4,
 "nbformat_minor": 5
}
