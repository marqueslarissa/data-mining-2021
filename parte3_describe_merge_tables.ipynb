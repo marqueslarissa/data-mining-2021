{
 "cells": [
  {
   "cell_type": "markdown",
   "id": "3c9ec09a-2331-497b-a90b-3132ae2d790d",
   "metadata": {},
   "source": [
    "# Pré processamento da coleção de dados\n",
    "\n",
    "Aplicação de técnicas de pré processamento de dados para ser possível uma pré-análise dos dados enquanto ocorre a transformação para dados padronizados e normalizados."
   ]
  },
  {
   "cell_type": "markdown",
   "id": "05ca91d0-8a2f-4f07-adad-0b70aeefa041",
   "metadata": {},
   "source": [
    "# Parte 3 - Describe e Merge \n",
    "\n",
    "* foi utilizado a função describe() para ter a estatística dos dados de cada tabela tanto para os dados categóricos quanto para os dados discretos\n",
    "* também unimos as tabelas de Interações (Detail_Interaction) e Incidentes (Detail_Incident)"
   ]
  },
  {
   "cell_type": "code",
   "execution_count": 1,
   "id": "6ef70422-dd61-434b-b30f-bad5b9e51043",
   "metadata": {},
   "outputs": [],
   "source": [
    "from fun_dependencies import *\n",
    "\n",
    "#load data\n",
    "df_interacao = load_data('cleaning_dataset/pt2/Detail_Interaction_pt2.csv', sep=';')\n",
    "df_incidente = load_data('cleaning_dataset/pt2/Detail_Incident_pt2.csv', sep=';')\n",
    "df_atividades_incidente = load_data('cleaning_dataset/pt2/Detail_Incident_Activity_pt2.csv', sep=';')\n",
    "df_mudancas = load_data('cleaning_dataset/pt2/Detail_Change_pt2.csv', sep=';')\n",
    "\n",
    "#load raw data\n",
    "df_raw_interacao = load_data('dataset/Detail_Interaction.csv', sep=';')\n",
    "df_raw_incidente = load_data('dataset/Detail_Incident.csv', sep=';')\n",
    "df_raw_atividade_incidente = load_data('dataset/Detail_Incident_Activity.csv', sep=';')\n",
    "df_raw_mudancas = load_data('dataset/Detail_Change.csv', sep=';')"
   ]
  },
  {
   "cell_type": "markdown",
   "id": "d711f3fb-8493-48e7-8e75-0d0f975fbcd3",
   "metadata": {},
   "source": [
    "### Tabela Interacao"
   ]
  },
  {
   "cell_type": "code",
   "execution_count": 2,
   "id": "17da83a6-5d5a-4182-b49b-071c448c65ca",
   "metadata": {},
   "outputs": [],
   "source": [
    "%%capture cap --no-stderr\n",
    "print(\"---------------------------------------Table: Interacao---------------------------------------\\n\")\n",
    "print(f\"Statistics Numeric Columns: \\n{df_interacao.describe(include=np.number)}\\n\")\n",
    "print(f\"Statistics Categorial Columns: \\n{df_interacao.describe(exclude=np.number)}\\n\")"
   ]
  },
  {
   "cell_type": "code",
   "execution_count": 3,
   "id": "d94a73d5-669b-412f-bde2-5b77e5eed1ba",
   "metadata": {},
   "outputs": [],
   "source": [
    "with open('output/output_pt3.txt', 'w') as f:\n",
    "    f.write(cap.stdout)"
   ]
  },
  {
   "cell_type": "markdown",
   "id": "18fa7a09-ef4f-420d-8294-a1845d6d8a6f",
   "metadata": {},
   "source": [
    "### Tabela Incidente"
   ]
  },
  {
   "cell_type": "code",
   "execution_count": 4,
   "id": "05b6305d-2c3f-4e6b-bd71-a87d5569ffc0",
   "metadata": {},
   "outputs": [],
   "source": [
    "%%capture cap --no-stderr\n",
    "print(\"---------------------------------------Table: Incidente---------------------------------------\\n\")\n",
    "print(f\"Statistics Numeric Columns: \\n{df_incidente.describe(include=np.number)}\\n\")\n",
    "print(f\"Statistics Categorial Columns: \\n{df_incidente.describe(exclude=np.number)}\\n\")"
   ]
  },
  {
   "cell_type": "code",
   "execution_count": 5,
   "id": "3e9ab713-3481-4796-b2a2-7b453679acd4",
   "metadata": {},
   "outputs": [],
   "source": [
    "with open('output/output_pt3.txt', 'a') as f:\n",
    "    f.write(cap.stdout)"
   ]
  },
  {
   "cell_type": "markdown",
   "id": "133ad256-3fb5-416f-9182-89186fb53f84",
   "metadata": {},
   "source": [
    "### Tabela Atividades Incidente"
   ]
  },
  {
   "cell_type": "code",
   "execution_count": 6,
   "id": "fb7e929c-9011-4f05-a190-dc3fca173c55",
   "metadata": {},
   "outputs": [],
   "source": [
    "%%capture cap --no-stderr\n",
    "print(\"---------------------------------------Table: Atividades Interacao---------------------------------------\\n\")\n",
    "#print(f\"Statistics Numeric Columns: \\n{df_atividades_incidente.describe(include=np.number)}\\n\") # no numeric columns\n",
    "print(f\"Statistics Categorial Columns: \\n{df_atividades_incidente.describe(exclude=np.number)}\\n\")"
   ]
  },
  {
   "cell_type": "code",
   "execution_count": 7,
   "id": "b9395545-bab6-4935-afc6-902dc36349df",
   "metadata": {},
   "outputs": [],
   "source": [
    "with open('output/output_pt3.txt', 'a') as f:\n",
    "    f.write(cap.stdout)"
   ]
  },
  {
   "cell_type": "markdown",
   "id": "cd7600ea-f21b-4bf0-b755-3ab62618cf1a",
   "metadata": {},
   "source": [
    "### Tabela Mudanças"
   ]
  },
  {
   "cell_type": "code",
   "execution_count": 8,
   "id": "23095f4f-2e3c-4710-bead-99952cc86dba",
   "metadata": {},
   "outputs": [],
   "source": [
    "%%capture cap --no-stderr\n",
    "print(\"---------------------------------------Table: Mudancas---------------------------------------\\n\")\n",
    "#print(f\"Statistics Numeric Columns: \\n{df_mudancas.describe(include=np.number)}\\n\")  # no numeric columns\n",
    "print(f\"Statistics Categorial Columns: \\n{df_mudancas.describe(exclude=np.number)}\\n\")"
   ]
  },
  {
   "cell_type": "code",
   "execution_count": 9,
   "id": "acdf060f-2621-48cf-8595-894729b223df",
   "metadata": {},
   "outputs": [],
   "source": [
    "with open('output/output_pt3.txt', 'a') as f:\n",
    "    f.write(cap.stdout)"
   ]
  },
  {
   "cell_type": "markdown",
   "id": "f9c59c9d-dff7-4d52-80f6-00814534fe72",
   "metadata": {},
   "source": [
    "# Merged Data\n",
    "\n",
    "* Raw: Apply preprocessing after merge Detail Interaction + Detail Incident\n",
    "* Processed: Apply preprocessing before merge Detail Interaction + Detail Incident\n",
    "\n",
    "## Interaction + Incident\n",
    "\n",
    "1. Merge\n",
    "2. Missing\n",
    "3. Formating\n",
    "4. Describe\n",
    "\n",
    "### Raw"
   ]
  },
  {
   "cell_type": "code",
   "execution_count": 10,
   "id": "9be042d8-6253-40c3-a651-240e5138391a",
   "metadata": {},
   "outputs": [],
   "source": [
    "df_raw_interacao_incidente_atividade = pd.concat([df_raw_incidente.set_index('incident_id'),df_raw_interacao.set_index('related_incident'),df_raw_atividade_incidente.set_index('incident_id')], join='outer')\n",
    "\n",
    "df_raw_interacao_incidente_atividade = df_raw_interacao_incidente_atividade[df_raw_interacao_incidente_atividade.index.notnull()]\n",
    "\n",
    "#df_raw_interacao_incidente.info()"
   ]
  },
  {
   "cell_type": "code",
   "execution_count": 11,
   "id": "cd7adcb1-4b8e-4533-8178-8749a0ddcef5",
   "metadata": {},
   "outputs": [],
   "source": [
    "%%capture cap --no-stderr\n",
    "df_raw_interacao_incidente_atividade = df_raw_interacao_incidente_atividade.reset_index(col_level=0).rename(columns={'index': 'incident_id'})\n",
    "\n",
    "df_raw_merge = pd.concat([df_raw_interacao_incidente_atividade.set_index('related_change'),df_raw_mudancas.set_index('change_id')], join='outer')\n",
    "\n",
    "df_raw_merge = df_raw_merge.reset_index(col_level=0).rename(columns={'index': 'change_id'})\n",
    "\n",
    "print('\\nInfo after RAW merge:\\n')\n",
    "df_raw_merge.info()\n",
    "print('\\n')"
   ]
  },
  {
   "cell_type": "code",
   "execution_count": 12,
   "id": "4d2af1f8-f478-4384-ba00-9df0c5a1daa2",
   "metadata": {},
   "outputs": [],
   "source": [
    "with open('output/output_pt3.txt', 'a') as f:\n",
    "    f.write(cap.stdout)"
   ]
  },
  {
   "cell_type": "code",
   "execution_count": 13,
   "id": "0a3e7578-8b4e-48d3-a411-65e41ddf4feb",
   "metadata": {},
   "outputs": [],
   "source": [
    "%%capture cap --no-stderr\n",
    "\n",
    "## customize missing treatment\n",
    "\n",
    "print(\"---------------------------------------RAW Table: Merged Interacao + Incidente + Atividade Incidente + Mudancas ---------------------------------------\\n\")\n",
    "rows_before = df_raw_merge.shape[0]\n",
    "before = pd.concat([df_raw_merge.isna().sum(), df_raw_merge.isna().sum()/len(df_raw_merge)*100], axis=1)\n",
    "print(f'Before Missing Values\\n{before}')\n",
    "\n",
    "df_raw_merge.dropna(thresh=0.2*len(df_raw_merge), axis=1, inplace=True)\n",
    "df_raw_merge.dropna(subset=['datestamp'], inplace=True)\n",
    "df_raw_merge.dropna(thresh=1*len(df_raw_merge), axis=1, inplace=True)\n",
    "\n",
    "rows_after = df_raw_merge.shape[0]\n",
    "after = pd.concat([df_raw_merge.isna().sum(), df_raw_merge.isna().sum()/len(df_raw_merge)*100], axis=1)\n",
    "print(f'\\nAfter Missing Values\\n{after}')\n",
    "print('\\nPercent missing value removed: {:.2%}\\n'.format((rows_before-rows_after)/rows_before))"
   ]
  },
  {
   "cell_type": "code",
   "execution_count": 14,
   "id": "730c0c45-e87f-440f-a918-6a279fc6f3eb",
   "metadata": {},
   "outputs": [],
   "source": [
    "with open('output/output_pt3.txt', 'a') as f:\n",
    "    f.write(cap.stdout)"
   ]
  },
  {
   "cell_type": "code",
   "execution_count": 15,
   "id": "76c6ad69-6abd-4da5-b340-30888e5e4ff3",
   "metadata": {},
   "outputs": [],
   "source": [
    "%%capture cap --no-stderr\n",
    "print(f'Attributes type\\n{df_raw_merge.dtypes}\\n')\n",
    "df_raw_merge = data_formatting(df_raw_merge)\n",
    "print(f'Attributes type\\n{df_raw_merge.dtypes}\\n')"
   ]
  },
  {
   "cell_type": "code",
   "execution_count": 16,
   "id": "bc838a34-60e5-4071-9706-3d20303b2d4e",
   "metadata": {},
   "outputs": [],
   "source": [
    "with open('output/output_pt3.txt', 'a') as f:\n",
    "    f.write(cap.stdout)"
   ]
  },
  {
   "cell_type": "code",
   "execution_count": 17,
   "id": "7e5c52ae-7ce1-49ee-8387-34d93ed399e5",
   "metadata": {},
   "outputs": [],
   "source": [
    "%%capture cap --no-stderr\n",
    "#print(f\"Statistics Numeric Columns: \\n{df_raw_merge.describe(include=np.number)}\\n\")  # no numeric columns\n",
    "print(f\"Statistics Categorial Columns: \\n{df_raw_merge.describe(exclude=np.number)}\\n\")"
   ]
  },
  {
   "cell_type": "code",
   "execution_count": 18,
   "id": "74cdd005-4a9a-40e4-8ecd-73bd5bc03a44",
   "metadata": {},
   "outputs": [],
   "source": [
    "with open('output/output_pt3.txt', 'a') as f:\n",
    "    f.write(cap.stdout)"
   ]
  },
  {
   "cell_type": "code",
   "execution_count": 19,
   "id": "efdf69c5-c9dd-4be4-98c7-3d7971a96271",
   "metadata": {},
   "outputs": [],
   "source": [
    "# Sort by ascending incident_id,datestamp (case_id,timestamp), reset the indices\n",
    "df_raw_merge = df_raw_merge.sort_values(by=['incident_id','datestamp','incidentactivity_number'])"
   ]
  },
  {
   "cell_type": "markdown",
   "id": "e5db0016-5d64-4584-bfe1-16d97ad79bb7",
   "metadata": {},
   "source": [
    "### Processed"
   ]
  },
  {
   "cell_type": "code",
   "execution_count": 20,
   "id": "a361b065-e18d-419c-947e-358ca3b78ce4",
   "metadata": {},
   "outputs": [],
   "source": [
    "df_interacao_incidente_atividade = pd.concat([df_incidente.set_index('incident_id'),df_interacao.set_index('related_incident'),df_atividades_incidente.set_index('incident_id')], join='outer')\n",
    "\n",
    "df_interacao_incidente_atividade = df_interacao_incidente_atividade[df_interacao_incidente_atividade.index.notnull()]"
   ]
  },
  {
   "cell_type": "code",
   "execution_count": 21,
   "id": "20debebd-1321-4d21-9021-a35e79b9490e",
   "metadata": {},
   "outputs": [],
   "source": [
    "%%capture cap --no-stderr\n",
    "df_merge = df_interacao_incidente_atividade.reset_index(col_level=0).rename(columns={'index': 'incident_id'})\n",
    "\n",
    "#df_merge = pd.concat([df_interacao_incidente_atividade.set_index('related_change'),df_mudancas.set_index('change_id')], join='outer')\n",
    "\n",
    "#df_merge = df_merge.reset_index(col_level=0).rename(columns={'index': 'change_id'})\n",
    "\n",
    "print('\\nInfo after PROCESSED merge:\\n')\n",
    "df_merge.info()\n",
    "print('\\n')"
   ]
  },
  {
   "cell_type": "code",
   "execution_count": 22,
   "id": "adfc7783-2464-4220-96e9-1d798f8373a4",
   "metadata": {},
   "outputs": [],
   "source": [
    "with open('output/output_pt3.txt', 'a') as f:\n",
    "    f.write(cap.stdout)"
   ]
  },
  {
   "cell_type": "code",
   "execution_count": 23,
   "id": "acacd7d8-c3d5-45c0-a6f9-088aa3d80373",
   "metadata": {},
   "outputs": [],
   "source": [
    "%%capture cap --no-stderr\n",
    "print(\"---------------------------------------PROCESSED Table: Merged Interacao + Incidente + Atividade Incidente + Mudancas ---------------------------------------\\n\")\n",
    "df_merge = missing_treatment(df_merge, drop=False, fill=False, threshold=0.2)"
   ]
  },
  {
   "cell_type": "code",
   "execution_count": 24,
   "id": "3644876b-1f16-43b0-8a72-c5856aff39db",
   "metadata": {},
   "outputs": [],
   "source": [
    "with open('output/output_pt3.txt', 'a') as f:\n",
    "    f.write(cap.stdout)"
   ]
  },
  {
   "cell_type": "code",
   "execution_count": 25,
   "id": "c4987aa7-86b7-4f48-b9e0-cfdfbc8a5322",
   "metadata": {},
   "outputs": [],
   "source": [
    "%%capture cap --no-stderr\n",
    "print(f'Attributes type\\n{df_merge.dtypes}\\n')\n",
    "df_merge = data_formatting(df_merge)\n",
    "print(f'Attributes type\\n{df_merge.dtypes}\\n')"
   ]
  },
  {
   "cell_type": "code",
   "execution_count": 26,
   "id": "16efed05-44ee-4a0a-aea9-1b5f17d07967",
   "metadata": {},
   "outputs": [],
   "source": [
    "with open('output/output_pt3.txt', 'a') as f:\n",
    "    f.write(cap.stdout)"
   ]
  },
  {
   "cell_type": "code",
   "execution_count": 27,
   "id": "a98f62cf-281f-48b4-867f-91da3c5118f1",
   "metadata": {},
   "outputs": [],
   "source": [
    "%%capture cap --no-stderr\n",
    "#print(f\"Statistics Numeric Columns: \\n{df_merge.describe(include=np.number)}\\n\")  # no numeric columns\n",
    "print(f\"Statistics Categorial Columns: \\n{df_merge.describe(exclude=np.number)}\\n\")"
   ]
  },
  {
   "cell_type": "code",
   "execution_count": 28,
   "id": "3477b093-398b-4d2d-bcb2-3342eb2ed7aa",
   "metadata": {},
   "outputs": [],
   "source": [
    "with open('output/output_pt3.txt', 'a') as f:\n",
    "    f.write(cap.stdout)"
   ]
  },
  {
   "cell_type": "code",
   "execution_count": 29,
   "id": "f3db9747-d1a2-4a03-8712-f6189ffc9328",
   "metadata": {},
   "outputs": [],
   "source": [
    "df_merge = df_merge.sort_values(by=['incident_id','datestamp','incidentactivity_number'])"
   ]
  },
  {
   "cell_type": "code",
   "execution_count": 30,
   "id": "eb47621a-b095-471e-b2a0-5b667315bf68",
   "metadata": {},
   "outputs": [],
   "source": [
    "df_raw_merge.to_csv('cleaning_dataset/pt3/RAW_MERGED_Detail_pt3.csv', sep=';', encoding='utf-8', index=False)\n",
    "df_merge.to_csv('cleaning_dataset/pt3/PROCESSED_MERGED_Detail_pt3.csv', sep=';', encoding='utf-8', index=False)"
   ]
  }
 ],
 "metadata": {
  "environment": {
   "name": "common-cpu.m80",
   "type": "gcloud",
   "uri": "gcr.io/deeplearning-platform-release/base-cpu:m80"
  },
  "kernelspec": {
   "display_name": "Python 3",
   "language": "python",
   "name": "python3"
  },
  "language_info": {
   "codemirror_mode": {
    "name": "ipython",
    "version": 3
   },
   "file_extension": ".py",
   "mimetype": "text/x-python",
   "name": "python",
   "nbconvert_exporter": "python",
   "pygments_lexer": "ipython3",
   "version": "3.7.10"
  }
 },
 "nbformat": 4,
 "nbformat_minor": 5
}
