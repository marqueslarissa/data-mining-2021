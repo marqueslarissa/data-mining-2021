{
 "cells": [
  {
   "cell_type": "markdown",
   "id": "3c9ec09a-2331-497b-a90b-3132ae2d790d",
   "metadata": {},
   "source": [
    "# Pré processamento da coleção de dados\n",
    "\n",
    "Aplicação de técnicas de pré processamento de dados para ser possível uma pré-análise dos dados enquanto ocore a transformação para dados padronizados e normalizados."
   ]
  },
  {
   "cell_type": "markdown",
   "id": "05ca91d0-8a2f-4f07-adad-0b70aeefa041",
   "metadata": {},
   "source": [
    "# Parte 3 - Describe e Merge \n",
    "\n",
    "* foi utilizado a função describe() para ter a estatística dos dados de cada tabela tanto para os dados categóricos quanto para os dados discretos\n",
    "* também unimos as tabelas de Interações (Detail_Interaction) e Incidentes (Detail_Incident)"
   ]
  },
  {
   "cell_type": "code",
   "execution_count": 1,
   "id": "6ef70422-dd61-434b-b30f-bad5b9e51043",
   "metadata": {},
   "outputs": [],
   "source": [
    "from fun_dependencies import *\n",
    "\n",
    "#load data\n",
    "df_interacao = load_data('cleaning_dataset/pt2/Detail_Interaction_pt2.csv', sep=';')\n",
    "df_incidente = load_data('cleaning_dataset/pt2/Detail_Incident_pt2.csv', sep=';')\n",
    "df_atividades_incidente = load_data('cleaning_dataset/pt2/Detail_Incident_Activity_pt2.csv', sep=';')\n",
    "df_mudancas = load_data('cleaning_dataset/pt2/Detail_Change_pt2.csv', sep=';')\n",
    "\n",
    "#load raw data\n",
    "df_raw_interacao = load_data('dataset/Detail_Interaction.csv', sep=';')\n",
    "df_raw_incidente = load_data('dataset/Detail_Incident.csv', sep=';')\n",
    "df_raw_atividade_incidente = load_data('dataset/Detail_Incident_Activity.csv', sep=';')"
   ]
  },
  {
   "cell_type": "markdown",
   "id": "d711f3fb-8493-48e7-8e75-0d0f975fbcd3",
   "metadata": {},
   "source": [
    "### Tabela Interacao"
   ]
  },
  {
   "cell_type": "code",
   "execution_count": 2,
   "id": "17da83a6-5d5a-4182-b49b-071c448c65ca",
   "metadata": {},
   "outputs": [],
   "source": [
    "%%capture cap --no-stderr\n",
    "print(\"---------------------------------------Table: Interacao---------------------------------------\\n\")\n",
    "print(f\"Statistics Numeric Columns: \\n{df_interacao.describe(include=np.number)}\\n\")\n",
    "print(f\"Statistics Categorial Columns: \\n{df_interacao.describe(exclude=np.number)}\\n\")"
   ]
  },
  {
   "cell_type": "code",
   "execution_count": 3,
   "id": "d94a73d5-669b-412f-bde2-5b77e5eed1ba",
   "metadata": {},
   "outputs": [],
   "source": [
    "with open('output/output_pt3.txt', 'w') as f:\n",
    "    f.write(cap.stdout)"
   ]
  },
  {
   "cell_type": "markdown",
   "id": "18fa7a09-ef4f-420d-8294-a1845d6d8a6f",
   "metadata": {},
   "source": [
    "### Tabela Incidente"
   ]
  },
  {
   "cell_type": "code",
   "execution_count": 4,
   "id": "05b6305d-2c3f-4e6b-bd71-a87d5569ffc0",
   "metadata": {},
   "outputs": [],
   "source": [
    "%%capture cap --no-stderr\n",
    "print(\"---------------------------------------Table: Incidente---------------------------------------\\n\")\n",
    "print(f\"Statistics Numeric Columns: \\n{df_incidente.describe(include=np.number)}\\n\")\n",
    "print(f\"Statistics Categorial Columns: \\n{df_incidente.describe(exclude=np.number)}\\n\")"
   ]
  },
  {
   "cell_type": "code",
   "execution_count": 5,
   "id": "3e9ab713-3481-4796-b2a2-7b453679acd4",
   "metadata": {},
   "outputs": [],
   "source": [
    "with open('output/output_pt3.txt', 'a') as f:\n",
    "    f.write(cap.stdout)"
   ]
  },
  {
   "cell_type": "markdown",
   "id": "133ad256-3fb5-416f-9182-89186fb53f84",
   "metadata": {},
   "source": [
    "### Tabela Atividades Incidente"
   ]
  },
  {
   "cell_type": "code",
   "execution_count": 6,
   "id": "fb7e929c-9011-4f05-a190-dc3fca173c55",
   "metadata": {},
   "outputs": [],
   "source": [
    "%%capture cap --no-stderr\n",
    "print(\"---------------------------------------Table: Atividades Interacao---------------------------------------\\n\")\n",
    "#print(f\"Statistics Numeric Columns: \\n{df_atividades_incidente.describe(include=np.number)}\\n\") # no numeric columns\n",
    "print(f\"Statistics Categorial Columns: \\n{df_atividades_incidente.describe(exclude=np.number)}\\n\")"
   ]
  },
  {
   "cell_type": "code",
   "execution_count": 7,
   "id": "b9395545-bab6-4935-afc6-902dc36349df",
   "metadata": {},
   "outputs": [],
   "source": [
    "with open('output/output_pt3.txt', 'a') as f:\n",
    "    f.write(cap.stdout)"
   ]
  },
  {
   "cell_type": "markdown",
   "id": "cd7600ea-f21b-4bf0-b755-3ab62618cf1a",
   "metadata": {},
   "source": [
    "### Tabela Mudanças"
   ]
  },
  {
   "cell_type": "code",
   "execution_count": 8,
   "id": "23095f4f-2e3c-4710-bead-99952cc86dba",
   "metadata": {},
   "outputs": [],
   "source": [
    "%%capture cap --no-stderr\n",
    "print(\"---------------------------------------Table: Mudancas---------------------------------------\\n\")\n",
    "#print(f\"Statistics Numeric Columns: \\n{df_mudancas.describe(include=np.number)}\\n\")  # no numeric columns\n",
    "print(f\"Statistics Categorial Columns: \\n{df_mudancas.describe(exclude=np.number)}\\n\")"
   ]
  },
  {
   "cell_type": "code",
   "execution_count": 9,
   "id": "acdf060f-2621-48cf-8595-894729b223df",
   "metadata": {},
   "outputs": [],
   "source": [
    "with open('output/output_pt3.txt', 'a') as f:\n",
    "    f.write(cap.stdout)"
   ]
  },
  {
   "cell_type": "markdown",
   "id": "f9c59c9d-dff7-4d52-80f6-00814534fe72",
   "metadata": {},
   "source": [
    "# Merged Data\n",
    "\n",
    "* Raw: Apply preprocessing after merge Detail Interaction + Detail Incident\n",
    "* Processed: Apply preprocessing before merge Detail Interaction + Detail Incident\n",
    "\n",
    "## Interaction + Incident\n",
    "\n",
    "1. Merge\n",
    "2. Missing\n",
    "3. Formating\n",
    "4. Describe\n",
    "\n",
    "### Raw"
   ]
  },
  {
   "cell_type": "code",
   "execution_count": 10,
   "id": "9be042d8-6253-40c3-a651-240e5138391a",
   "metadata": {},
   "outputs": [],
   "source": [
    "df_raw_interacao_incidente = pd.concat([df_raw_incidente.set_index('incident_id'),df_raw_interacao.set_index('related_incident'),df_raw_atividade_incidente.set_index('incident_id')], join='inner').reset_index()"
   ]
  },
  {
   "cell_type": "code",
   "execution_count": 11,
   "id": "5d8c7dc7-ac02-4cb4-b820-babb8f6ae237",
   "metadata": {},
   "outputs": [],
   "source": [
    "%%capture cap --no-stderr\n",
    "print(\"---------------------------------------RAW Table: Merged Interacao + Incidente---------------------------------------\\n\")\n",
    "df_raw_interacao_incidente = missing_treatment(df_raw_interacao_incidente, drop=False, fill=False)"
   ]
  },
  {
   "cell_type": "code",
   "execution_count": 12,
   "id": "730c0c45-e87f-440f-a918-6a279fc6f3eb",
   "metadata": {},
   "outputs": [],
   "source": [
    "with open('output/output_pt3.txt', 'a') as f:\n",
    "    f.write(cap.stdout)"
   ]
  },
  {
   "cell_type": "code",
   "execution_count": 13,
   "id": "76c6ad69-6abd-4da5-b340-30888e5e4ff3",
   "metadata": {},
   "outputs": [],
   "source": [
    "%%capture cap --no-stderr\n",
    "print(f'Attributes type\\n{df_raw_interacao_incidente.dtypes}\\n')\n",
    "df_raw_interacao_incidente = data_formatting(df_raw_interacao_incidente)\n",
    "print(f'Attributes type\\n{df_raw_interacao_incidente.dtypes}\\n')"
   ]
  },
  {
   "cell_type": "code",
   "execution_count": 14,
   "id": "bc838a34-60e5-4071-9706-3d20303b2d4e",
   "metadata": {},
   "outputs": [],
   "source": [
    "with open('output/output_pt3.txt', 'a') as f:\n",
    "    f.write(cap.stdout)"
   ]
  },
  {
   "cell_type": "code",
   "execution_count": 15,
   "id": "7e5c52ae-7ce1-49ee-8387-34d93ed399e5",
   "metadata": {},
   "outputs": [
    {
     "ename": "ValueError",
     "evalue": "No objects to concatenate",
     "output_type": "error",
     "traceback": [
      "\u001b[0;31m---------------------------------------------------------------------------\u001b[0m",
      "\u001b[0;31mValueError\u001b[0m                                Traceback (most recent call last)",
      "\u001b[0;32m/tmp/ipykernel_8804/1112418196.py\u001b[0m in \u001b[0;36m<module>\u001b[0;34m\u001b[0m\n\u001b[0;32m----> 1\u001b[0;31m \u001b[0mprint\u001b[0m\u001b[0;34m(\u001b[0m\u001b[0;34mf\"Statistics Numeric Columns: \\n{df_raw_interacao_incidente.describe(include=np.number)}\\n\"\u001b[0m\u001b[0;34m)\u001b[0m\u001b[0;34m\u001b[0m\u001b[0;34m\u001b[0m\u001b[0m\n\u001b[0m\u001b[1;32m      2\u001b[0m \u001b[0mprint\u001b[0m\u001b[0;34m(\u001b[0m\u001b[0;34mf\"Statistics Categorial Columns: \\n{df_raw_interacao_incidente.describe(exclude=np.number)}\\n\"\u001b[0m\u001b[0;34m)\u001b[0m\u001b[0;34m\u001b[0m\u001b[0;34m\u001b[0m\u001b[0m\n",
      "\u001b[0;32m/opt/conda/lib/python3.7/site-packages/pandas/core/generic.py\u001b[0m in \u001b[0;36mdescribe\u001b[0;34m(self, percentiles, include, exclude, datetime_is_numeric)\u001b[0m\n\u001b[1;32m  10027\u001b[0m             \u001b[0mexclude\u001b[0m\u001b[0;34m=\u001b[0m\u001b[0mexclude\u001b[0m\u001b[0;34m,\u001b[0m\u001b[0;34m\u001b[0m\u001b[0;34m\u001b[0m\u001b[0m\n\u001b[1;32m  10028\u001b[0m             \u001b[0mdatetime_is_numeric\u001b[0m\u001b[0;34m=\u001b[0m\u001b[0mdatetime_is_numeric\u001b[0m\u001b[0;34m,\u001b[0m\u001b[0;34m\u001b[0m\u001b[0;34m\u001b[0m\u001b[0m\n\u001b[0;32m> 10029\u001b[0;31m             \u001b[0mpercentiles\u001b[0m\u001b[0;34m=\u001b[0m\u001b[0mpercentiles\u001b[0m\u001b[0;34m,\u001b[0m\u001b[0;34m\u001b[0m\u001b[0;34m\u001b[0m\u001b[0m\n\u001b[0m\u001b[1;32m  10030\u001b[0m         )\n\u001b[1;32m  10031\u001b[0m \u001b[0;34m\u001b[0m\u001b[0m\n",
      "\u001b[0;32m/opt/conda/lib/python3.7/site-packages/pandas/core/describe.py\u001b[0m in \u001b[0;36mdescribe_ndframe\u001b[0;34m(obj, include, exclude, datetime_is_numeric, percentiles)\u001b[0m\n\u001b[1;32m     93\u001b[0m         )\n\u001b[1;32m     94\u001b[0m \u001b[0;34m\u001b[0m\u001b[0m\n\u001b[0;32m---> 95\u001b[0;31m     \u001b[0mresult\u001b[0m \u001b[0;34m=\u001b[0m \u001b[0mdescriber\u001b[0m\u001b[0;34m.\u001b[0m\u001b[0mdescribe\u001b[0m\u001b[0;34m(\u001b[0m\u001b[0mpercentiles\u001b[0m\u001b[0;34m=\u001b[0m\u001b[0mpercentiles\u001b[0m\u001b[0;34m)\u001b[0m\u001b[0;34m\u001b[0m\u001b[0;34m\u001b[0m\u001b[0m\n\u001b[0m\u001b[1;32m     96\u001b[0m     \u001b[0;32mreturn\u001b[0m \u001b[0mcast\u001b[0m\u001b[0;34m(\u001b[0m\u001b[0mFrameOrSeries\u001b[0m\u001b[0;34m,\u001b[0m \u001b[0mresult\u001b[0m\u001b[0;34m)\u001b[0m\u001b[0;34m\u001b[0m\u001b[0;34m\u001b[0m\u001b[0m\n\u001b[1;32m     97\u001b[0m \u001b[0;34m\u001b[0m\u001b[0m\n",
      "\u001b[0;32m/opt/conda/lib/python3.7/site-packages/pandas/core/describe.py\u001b[0m in \u001b[0;36mdescribe\u001b[0;34m(self, percentiles)\u001b[0m\n\u001b[1;32m    179\u001b[0m             \u001b[0;34m[\u001b[0m\u001b[0mx\u001b[0m\u001b[0;34m.\u001b[0m\u001b[0mreindex\u001b[0m\u001b[0;34m(\u001b[0m\u001b[0mcol_names\u001b[0m\u001b[0;34m,\u001b[0m \u001b[0mcopy\u001b[0m\u001b[0;34m=\u001b[0m\u001b[0;32mFalse\u001b[0m\u001b[0;34m)\u001b[0m \u001b[0;32mfor\u001b[0m \u001b[0mx\u001b[0m \u001b[0;32min\u001b[0m \u001b[0mldesc\u001b[0m\u001b[0;34m]\u001b[0m\u001b[0;34m,\u001b[0m\u001b[0;34m\u001b[0m\u001b[0;34m\u001b[0m\u001b[0m\n\u001b[1;32m    180\u001b[0m             \u001b[0maxis\u001b[0m\u001b[0;34m=\u001b[0m\u001b[0;36m1\u001b[0m\u001b[0;34m,\u001b[0m\u001b[0;34m\u001b[0m\u001b[0;34m\u001b[0m\u001b[0m\n\u001b[0;32m--> 181\u001b[0;31m             \u001b[0msort\u001b[0m\u001b[0;34m=\u001b[0m\u001b[0;32mFalse\u001b[0m\u001b[0;34m,\u001b[0m\u001b[0;34m\u001b[0m\u001b[0;34m\u001b[0m\u001b[0m\n\u001b[0m\u001b[1;32m    182\u001b[0m         )\n\u001b[1;32m    183\u001b[0m         \u001b[0md\u001b[0m\u001b[0;34m.\u001b[0m\u001b[0mcolumns\u001b[0m \u001b[0;34m=\u001b[0m \u001b[0mdata\u001b[0m\u001b[0;34m.\u001b[0m\u001b[0mcolumns\u001b[0m\u001b[0;34m.\u001b[0m\u001b[0mcopy\u001b[0m\u001b[0;34m(\u001b[0m\u001b[0;34m)\u001b[0m\u001b[0;34m\u001b[0m\u001b[0;34m\u001b[0m\u001b[0m\n",
      "\u001b[0;32m/opt/conda/lib/python3.7/site-packages/pandas/util/_decorators.py\u001b[0m in \u001b[0;36mwrapper\u001b[0;34m(*args, **kwargs)\u001b[0m\n\u001b[1;32m    309\u001b[0m                     \u001b[0mstacklevel\u001b[0m\u001b[0;34m=\u001b[0m\u001b[0mstacklevel\u001b[0m\u001b[0;34m,\u001b[0m\u001b[0;34m\u001b[0m\u001b[0;34m\u001b[0m\u001b[0m\n\u001b[1;32m    310\u001b[0m                 )\n\u001b[0;32m--> 311\u001b[0;31m             \u001b[0;32mreturn\u001b[0m \u001b[0mfunc\u001b[0m\u001b[0;34m(\u001b[0m\u001b[0;34m*\u001b[0m\u001b[0margs\u001b[0m\u001b[0;34m,\u001b[0m \u001b[0;34m**\u001b[0m\u001b[0mkwargs\u001b[0m\u001b[0;34m)\u001b[0m\u001b[0;34m\u001b[0m\u001b[0;34m\u001b[0m\u001b[0m\n\u001b[0m\u001b[1;32m    312\u001b[0m \u001b[0;34m\u001b[0m\u001b[0m\n\u001b[1;32m    313\u001b[0m         \u001b[0;32mreturn\u001b[0m \u001b[0mwrapper\u001b[0m\u001b[0;34m\u001b[0m\u001b[0;34m\u001b[0m\u001b[0m\n",
      "\u001b[0;32m/opt/conda/lib/python3.7/site-packages/pandas/core/reshape/concat.py\u001b[0m in \u001b[0;36mconcat\u001b[0;34m(objs, axis, join, ignore_index, keys, levels, names, verify_integrity, sort, copy)\u001b[0m\n\u001b[1;32m    302\u001b[0m         \u001b[0mverify_integrity\u001b[0m\u001b[0;34m=\u001b[0m\u001b[0mverify_integrity\u001b[0m\u001b[0;34m,\u001b[0m\u001b[0;34m\u001b[0m\u001b[0;34m\u001b[0m\u001b[0m\n\u001b[1;32m    303\u001b[0m         \u001b[0mcopy\u001b[0m\u001b[0;34m=\u001b[0m\u001b[0mcopy\u001b[0m\u001b[0;34m,\u001b[0m\u001b[0;34m\u001b[0m\u001b[0;34m\u001b[0m\u001b[0m\n\u001b[0;32m--> 304\u001b[0;31m         \u001b[0msort\u001b[0m\u001b[0;34m=\u001b[0m\u001b[0msort\u001b[0m\u001b[0;34m,\u001b[0m\u001b[0;34m\u001b[0m\u001b[0;34m\u001b[0m\u001b[0m\n\u001b[0m\u001b[1;32m    305\u001b[0m     )\n\u001b[1;32m    306\u001b[0m \u001b[0;34m\u001b[0m\u001b[0m\n",
      "\u001b[0;32m/opt/conda/lib/python3.7/site-packages/pandas/core/reshape/concat.py\u001b[0m in \u001b[0;36m__init__\u001b[0;34m(self, objs, axis, join, keys, levels, names, ignore_index, verify_integrity, copy, sort)\u001b[0m\n\u001b[1;32m    349\u001b[0m \u001b[0;34m\u001b[0m\u001b[0m\n\u001b[1;32m    350\u001b[0m         \u001b[0;32mif\u001b[0m \u001b[0mlen\u001b[0m\u001b[0;34m(\u001b[0m\u001b[0mobjs\u001b[0m\u001b[0;34m)\u001b[0m \u001b[0;34m==\u001b[0m \u001b[0;36m0\u001b[0m\u001b[0;34m:\u001b[0m\u001b[0;34m\u001b[0m\u001b[0;34m\u001b[0m\u001b[0m\n\u001b[0;32m--> 351\u001b[0;31m             \u001b[0;32mraise\u001b[0m \u001b[0mValueError\u001b[0m\u001b[0;34m(\u001b[0m\u001b[0;34m\"No objects to concatenate\"\u001b[0m\u001b[0;34m)\u001b[0m\u001b[0;34m\u001b[0m\u001b[0;34m\u001b[0m\u001b[0m\n\u001b[0m\u001b[1;32m    352\u001b[0m \u001b[0;34m\u001b[0m\u001b[0m\n\u001b[1;32m    353\u001b[0m         \u001b[0;32mif\u001b[0m \u001b[0mkeys\u001b[0m \u001b[0;32mis\u001b[0m \u001b[0;32mNone\u001b[0m\u001b[0;34m:\u001b[0m\u001b[0;34m\u001b[0m\u001b[0;34m\u001b[0m\u001b[0m\n",
      "\u001b[0;31mValueError\u001b[0m: No objects to concatenate"
     ]
    }
   ],
   "source": [
    "%%capture cap --no-stderr\n",
    "print(f\"Statistics Numeric Columns: \\n{df_raw_interacao_incidente.describe(include=np.number)}\\n\")\n",
    "print(f\"Statistics Categorial Columns: \\n{df_raw_interacao_incidente.describe(exclude=np.number)}\\n\")"
   ]
  },
  {
   "cell_type": "code",
   "execution_count": 16,
   "id": "74cdd005-4a9a-40e4-8ecd-73bd5bc03a44",
   "metadata": {},
   "outputs": [],
   "source": [
    "with open('output/output_pt3.txt', 'a') as f:\n",
    "    f.write(cap.stdout)"
   ]
  },
  {
   "cell_type": "markdown",
   "id": "e5db0016-5d64-4584-bfe1-16d97ad79bb7",
   "metadata": {},
   "source": [
    "### Processed"
   ]
  },
  {
   "cell_type": "code",
   "execution_count": 17,
   "id": "a361b065-e18d-419c-947e-358ca3b78ce4",
   "metadata": {},
   "outputs": [
    {
     "ename": "NameError",
     "evalue": "name 'df_atividade_incidente' is not defined",
     "output_type": "error",
     "traceback": [
      "\u001b[0;31m---------------------------------------------------------------------------\u001b[0m",
      "\u001b[0;31mNameError\u001b[0m                                 Traceback (most recent call last)",
      "\u001b[0;32m/tmp/ipykernel_8804/331134244.py\u001b[0m in \u001b[0;36m<module>\u001b[0;34m\u001b[0m\n\u001b[0;32m----> 1\u001b[0;31m \u001b[0mdf_interacao_incidente\u001b[0m \u001b[0;34m=\u001b[0m \u001b[0mpd\u001b[0m\u001b[0;34m.\u001b[0m\u001b[0mconcat\u001b[0m\u001b[0;34m(\u001b[0m\u001b[0;34m[\u001b[0m\u001b[0mdf_incidente\u001b[0m\u001b[0;34m.\u001b[0m\u001b[0mset_index\u001b[0m\u001b[0;34m(\u001b[0m\u001b[0;34m'incident_id'\u001b[0m\u001b[0;34m)\u001b[0m\u001b[0;34m,\u001b[0m\u001b[0mdf_interacao\u001b[0m\u001b[0;34m.\u001b[0m\u001b[0mset_index\u001b[0m\u001b[0;34m(\u001b[0m\u001b[0;34m'related_incident'\u001b[0m\u001b[0;34m)\u001b[0m\u001b[0;34m,\u001b[0m\u001b[0mdf_atividade_incidente\u001b[0m\u001b[0;34m.\u001b[0m\u001b[0mset_index\u001b[0m\u001b[0;34m(\u001b[0m\u001b[0;34m'incident_id'\u001b[0m\u001b[0;34m)\u001b[0m\u001b[0;34m]\u001b[0m\u001b[0;34m,\u001b[0m \u001b[0mjoin\u001b[0m\u001b[0;34m=\u001b[0m\u001b[0;34m'inner'\u001b[0m\u001b[0;34m)\u001b[0m\u001b[0;34m.\u001b[0m\u001b[0mreset_index\u001b[0m\u001b[0;34m(\u001b[0m\u001b[0;34m)\u001b[0m\u001b[0;34m\u001b[0m\u001b[0;34m\u001b[0m\u001b[0m\n\u001b[0m",
      "\u001b[0;31mNameError\u001b[0m: name 'df_atividade_incidente' is not defined"
     ]
    }
   ],
   "source": [
    "df_interacao_incidente = pd.concat([df_incidente.set_index('incident_id'),df_interacao.set_index('related_incident'),df_atividade_incidente.set_index('incident_id')], join='inner').reset_index()"
   ]
  },
  {
   "cell_type": "code",
   "execution_count": null,
   "id": "acacd7d8-c3d5-45c0-a6f9-088aa3d80373",
   "metadata": {},
   "outputs": [],
   "source": [
    "%%capture cap --no-stderr\n",
    "print(\"---------------------------------------PROCESSED Table: Merged Interacao + Incidente---------------------------------------\\n\")\n",
    "df_interacao_incidente = missing_treatment(df_interacao_incidente, drop=False, fill=False)"
   ]
  },
  {
   "cell_type": "code",
   "execution_count": null,
   "id": "3644876b-1f16-43b0-8a72-c5856aff39db",
   "metadata": {},
   "outputs": [],
   "source": [
    "with open('output/output_pt3.txt', 'a') as f:\n",
    "    f.write(cap.stdout)"
   ]
  },
  {
   "cell_type": "code",
   "execution_count": null,
   "id": "c4987aa7-86b7-4f48-b9e0-cfdfbc8a5322",
   "metadata": {},
   "outputs": [],
   "source": [
    "%%capture cap --no-stderr\n",
    "print(f'Attributes type\\n{df_interacao_incidente.dtypes}\\n')\n",
    "df_interacao_incidente = data_formatting(df_interacao_incidente)\n",
    "print(f'Attributes type\\n{df_interacao_incidente.dtypes}\\n')"
   ]
  },
  {
   "cell_type": "code",
   "execution_count": null,
   "id": "16efed05-44ee-4a0a-aea9-1b5f17d07967",
   "metadata": {},
   "outputs": [],
   "source": [
    "with open('output/output_pt3.txt', 'a') as f:\n",
    "    f.write(cap.stdout)"
   ]
  },
  {
   "cell_type": "code",
   "execution_count": null,
   "id": "a98f62cf-281f-48b4-867f-91da3c5118f1",
   "metadata": {},
   "outputs": [],
   "source": [
    "%%capture cap --no-stderr\n",
    "print(f\"Statistics Numeric Columns: \\n{df_interacao_incidente.describe(include=np.number)}\\n\")\n",
    "print(f\"Statistics Categorial Columns: \\n{df_interacao_incidente.describe(exclude=np.number)}\\n\")"
   ]
  },
  {
   "cell_type": "code",
   "execution_count": null,
   "id": "3477b093-398b-4d2d-bcb2-3342eb2ed7aa",
   "metadata": {},
   "outputs": [],
   "source": [
    "with open('output/output_pt3.txt', 'a') as f:\n",
    "    f.write(cap.stdout)"
   ]
  },
  {
   "cell_type": "code",
   "execution_count": null,
   "id": "eb47621a-b095-471e-b2a0-5b667315bf68",
   "metadata": {},
   "outputs": [],
   "source": [
    "df_raw_interacao_incidente.to_csv('cleaning_dataset/pt3/RAW_Detail_Interaction_Incident_pt3.csv', sep=';', encoding='utf-8', index=False)\n",
    "df_interacao_incidente.to_csv('cleaning_dataset/pt3/Detail_Interaction_Incident_pt3.csv', sep=';', encoding='utf-8', index=False)"
   ]
  }
 ],
 "metadata": {
  "environment": {
   "name": "common-cpu.m80",
   "type": "gcloud",
   "uri": "gcr.io/deeplearning-platform-release/base-cpu:m80"
  },
  "kernelspec": {
   "display_name": "Python 3",
   "language": "python",
   "name": "python3"
  },
  "language_info": {
   "codemirror_mode": {
    "name": "ipython",
    "version": 3
   },
   "file_extension": ".py",
   "mimetype": "text/x-python",
   "name": "python",
   "nbconvert_exporter": "python",
   "pygments_lexer": "ipython3",
   "version": "3.7.10"
  }
 },
 "nbformat": 4,
 "nbformat_minor": 5
}
