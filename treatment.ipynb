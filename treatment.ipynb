{
 "cells": [
  {
   "cell_type": "markdown",
   "id": "3c9ec09a-2331-497b-a90b-3132ae2d790d",
   "metadata": {},
   "source": [
    "# Pré processamento da coleção de dados\n",
    "\n",
    "Aplicação de técnicas de pré processamento de dados para ser possível uma pré-análise dos dados enquanto ocore a transformação para dados padronizados e normalizados.\n",
    "\n",
    "## Lidando com valores ausentes (missing values)\n",
    "Dados ausentes talvez sejam a característica mais comum de dados impuros. Esses valores geralmente assumem a forma de NaN ou None.\n",
    "\n",
    "Existem várias maneiras de preencher os valores ausentes:\n",
    "\n",
    "* Remover as linhas com os dados se seu conjunto de dados for grande o suficiente e a porcentagem de valores ausentes for alta (mais de 50%, por exemplo);\n",
    "* Preencher todas as variáveis nulas com 0 para lidar com valores numéricos;\n",
    "* Usar alguma biblioteca (ex: classe SimpleImputer da biblioteca scikit-learn) para preencher os valores ausentes com os dados (média, mediana, moda) para atributos discretos;\n",
    "* Usar alguma biblioteca (ex: OrdenalEncoder e OneHotEncoder da biblioteca scikit-learn) para preencher os valores categóricos em numéricos e em seguida criar atributos \"fictícios\";\n",
    "    * Ou seja, uma coluna será substituída por uma coluna para cada uma das variáveis categóricas que tinha na coluna original e com 1s e 0s substituindo as variáveis categóricas.\n",
    "    * É possível também utilizar o codificador de rótulo se houver variáveis categóricas como \"sim\" e \"não\".\n",
    "* Preencher os valores ausentes com qualquer valor que vier diretamente depois deles na mesma coluna.\n",
    "\n",
    "Essas decisões dependem do tipo de dados, do deseja-se fazer com os dados e da causa dos valores ausentes. Na verdade, só porque algo é popular não significa necessariamente que seja a escolha certa. A estratégia <b>mais comum</b> é usar o valor médio, mas dependendo de seus dados, você pode chegar a uma abordagem totalmente diferente.\n",
    "\n",
    "> Média é a estratégia padrão, então não é necessário realmente especificar isso, mas está aqui para ter uma ideia de quais informações pode-se desejar incluir. Os valores padrão para missing_values é nan. Se o conjunto de dados tiver valores ausentes chamados \"NaN\", permaneceremos com np.nan no parâmetro. <b>Conferir a documentação oficial [aqui](https://scikit-learn.org/stable/modules/generated/sklearn.impute.SimpleImputer.html)!</b>\n",
    "\n",
    "## Tipos de dados incorretos \n",
    "Cada coluna está atribuída ao tipo de dados correto. Isso pode ser verificado por meio da propriedade `dtypes`.\n",
    "\n",
    "## Dados homogêneos\n",
    "Este aspecto envolve dados categóricos e numéricos. Os dados categóricos devem ter o mesmo estilo de formatação, como minúsculas ou espaço em branco no início e final da string. Os dados numéricos devem ter, por exemplo, o mesmo número de dígitos após o ponto e outras coisas com arredondamento para cima e para baixo.\n",
    "\n",
    "## Dimensionamento de recursos (feature scaling)\n",
    "É muito importante dimensionar os dados ao usar algoritmos de aprendizado de máquina. Existem exceções, mas quando as variáveis estão em escalas diferentes, geralmente é necessário dimensioná-las.\n",
    "\n",
    "Algumas maneiras de fazer isso:\n",
    "\n",
    "* Escala min-max: subtraia o valor min e divida pelo intervalo (max-min). Os valores variam de 0 a 1. A classe MinMaxScaler faz isso.\n",
    "* Padronização (Standardization): subtraia a média e divida pelo desvio padrão. Você acaba com a média 0 e variação unitária. Os valores não são limitados neste caso. A padronização (Standardization) é menos afetada por outliers. A classe StandardScaler faz isso."
   ]
  },
  {
   "cell_type": "code",
   "execution_count": 1,
   "id": "6ef70422-dd61-434b-b30f-bad5b9e51043",
   "metadata": {},
   "outputs": [],
   "source": [
    "from fun_dependencies import *"
   ]
  },
  {
   "cell_type": "markdown",
   "id": "d711f3fb-8493-48e7-8e75-0d0f975fbcd3",
   "metadata": {},
   "source": [
    "### Tabela Interacao"
   ]
  },
  {
   "cell_type": "code",
   "execution_count": 2,
   "id": "da7d0607-7e00-4754-8fe4-7f5e3624ce2a",
   "metadata": {},
   "outputs": [
    {
     "name": "stdout",
     "output_type": "stream",
     "text": [
      "Attributes type\n",
      "ci_name_aff_              object\n",
      "ci_type_aff_              object\n",
      "ci_subtype_aff_           object\n",
      "service_comp_wbs_aff_     object\n",
      "interaction_id            object\n",
      "status                    object\n",
      "impact                     int64\n",
      "urgency                   object\n",
      "priority                   int64\n",
      "category                  object\n",
      "km_number                 object\n",
      "open_time_first_touch_    object\n",
      "close_time                object\n",
      "closure_code              object\n",
      "first_call_resolution     object\n",
      "handle_time_secs_          int64\n",
      "related_incident          object\n",
      "dtype: object\n"
     ]
    }
   ],
   "source": [
    "df_interacao = load_data('dataset/Detail_Interaction.csv', ';')\n",
    "print(f'Attributes type\\n{df_interacao.dtypes}')"
   ]
  },
  {
   "cell_type": "code",
   "execution_count": 3,
   "id": "17da83a6-5d5a-4182-b49b-071c448c65ca",
   "metadata": {},
   "outputs": [
    {
     "name": "stdout",
     "output_type": "stream",
     "text": [
      "Before Missing Values\n",
      "                            0          1\n",
      "ci_name_aff_                0   0.000000\n",
      "ci_type_aff_                0   0.000000\n",
      "ci_subtype_aff_             0   0.000000\n",
      "service_comp_wbs_aff_       0   0.000000\n",
      "interaction_id              0   0.000000\n",
      "status                      0   0.000000\n",
      "impact                      0   0.000000\n",
      "urgency                     0   0.000000\n",
      "priority                    0   0.000000\n",
      "category                    0   0.000000\n",
      "km_number                   0   0.000000\n",
      "open_time_first_touch_      0   0.000000\n",
      "close_time                  0   0.000000\n",
      "closure_code              487   0.331284\n",
      "first_call_resolution       0   0.000000\n",
      "handle_time_secs_           0   0.000000\n",
      "related_incident        94250  64.113902\n",
      "After Missing Values\n",
      "                        0    1\n",
      "ci_name_aff_            0  0.0\n",
      "ci_type_aff_            0  0.0\n",
      "ci_subtype_aff_         0  0.0\n",
      "service_comp_wbs_aff_   0  0.0\n",
      "interaction_id          0  0.0\n",
      "status                  0  0.0\n",
      "impact                  0  0.0\n",
      "urgency                 0  0.0\n",
      "priority                0  0.0\n",
      "category                0  0.0\n",
      "km_number               0  0.0\n",
      "open_time_first_touch_  0  0.0\n",
      "close_time              0  0.0\n",
      "closure_code            0  0.0\n",
      "first_call_resolution   0  0.0\n",
      "handle_time_secs_       0  0.0\n",
      "related_incident        0  0.0\n",
      "\n",
      "Percent missing value removed: 64.44%\n",
      "\n",
      "Attributes type\n",
      "ci_name_aff_              string\n",
      "ci_type_aff_              string\n",
      "ci_subtype_aff_           string\n",
      "service_comp_wbs_aff_     string\n",
      "interaction_id            string\n",
      "status                    string\n",
      "impact                     int64\n",
      "urgency                   string\n",
      "priority                   int64\n",
      "category                  string\n",
      "km_number                 string\n",
      "open_time_first_touch_    string\n",
      "close_time                string\n",
      "closure_code              string\n",
      "first_call_resolution     string\n",
      "handle_time_secs_          int64\n",
      "related_incident          string\n",
      "dtype: object\n"
     ]
    }
   ],
   "source": [
    "df_interacao = missing_treatment(df_interacao)\n",
    "print(f'Attributes type\\n{df_interacao.dtypes}')"
   ]
  },
  {
   "cell_type": "code",
   "execution_count": 4,
   "id": "0748f046-d2fe-4f60-8b4d-b73f43e20a86",
   "metadata": {},
   "outputs": [],
   "source": [
    "df_interacao.to_csv('cleaning_dataset/Detail_Interaction.csv', sep=';', encoding='utf-8', index=False)"
   ]
  },
  {
   "cell_type": "markdown",
   "id": "18fa7a09-ef4f-420d-8294-a1845d6d8a6f",
   "metadata": {},
   "source": [
    "### Tabela Incidente"
   ]
  },
  {
   "cell_type": "code",
   "execution_count": 5,
   "id": "a08c4a90-b12d-4196-83b5-a99e83a2c773",
   "metadata": {},
   "outputs": [
    {
     "name": "stdout",
     "output_type": "stream",
     "text": [
      "Attributes type\n",
      "ci_name_aff_                   object\n",
      "ci_type_aff_                   object\n",
      "ci_subtype_aff_                object\n",
      "service_component_wbs_aff_     object\n",
      "incident_id                    object\n",
      "                               ...   \n",
      "unnamed_73                    float64\n",
      "unnamed_74                    float64\n",
      "unnamed_75                    float64\n",
      "unnamed_76                    float64\n",
      "unnamed_77                    float64\n",
      "Length: 78, dtype: object\n"
     ]
    }
   ],
   "source": [
    "df_incidente = load_data('dataset/Detail_Incident.csv', sep=';')\n",
    "print(f'Attributes type\\n{df_incidente.dtypes}')"
   ]
  },
  {
   "cell_type": "code",
   "execution_count": 6,
   "id": "05b6305d-2c3f-4e6b-bd71-a87d5569ffc0",
   "metadata": {},
   "outputs": [
    {
     "name": "stdout",
     "output_type": "stream",
     "text": [
      "Before Missing Values\n",
      "                                0           1\n",
      "ci_name_aff_                  203    0.433677\n",
      "ci_type_aff_                  203    0.433677\n",
      "ci_subtype_aff_               203    0.433677\n",
      "service_component_wbs_aff_    203    0.433677\n",
      "incident_id                   203    0.433677\n",
      "...                           ...         ...\n",
      "unnamed_73                  46809  100.000000\n",
      "unnamed_74                  46809  100.000000\n",
      "unnamed_75                  46809  100.000000\n",
      "unnamed_76                  46809  100.000000\n",
      "unnamed_77                  46809  100.000000\n",
      "\n",
      "[78 rows x 2 columns]\n",
      "After Missing Values\n",
      "                            0    1\n",
      "ci_name_aff_                0  0.0\n",
      "ci_type_aff_                0  0.0\n",
      "ci_subtype_aff_             0  0.0\n",
      "service_component_wbs_aff_  0  0.0\n",
      "incident_id                 0  0.0\n",
      "status                      0  0.0\n",
      "impact                      0  0.0\n",
      "urgency                     0  0.0\n",
      "priority                    0  0.0\n",
      "category                    0  0.0\n",
      "km_number                   0  0.0\n",
      "alert_status                0  0.0\n",
      "#_reassignments             0  0.0\n",
      "open_time                   0  0.0\n",
      "resolved_time               0  0.0\n",
      "close_time                  0  0.0\n",
      "handle_time_hours_          0  0.0\n",
      "closure_code                0  0.0\n",
      "#_related_interactions      0  0.0\n",
      "related_interaction         0  0.0\n",
      "ci_name_cby_                0  0.0\n",
      "ci_type_cby_                0  0.0\n",
      "ci_subtype_cby_             0  0.0\n",
      "servicecomp_wbs_cby_        0  0.0\n",
      "\n",
      "Percent missing value removed: 4.24%\n",
      "\n",
      "Attributes type\n",
      "ci_name_aff_                   string\n",
      "ci_type_aff_                   string\n",
      "ci_subtype_aff_                string\n",
      "service_component_wbs_aff_     string\n",
      "incident_id                    string\n",
      "status                         string\n",
      "impact                        float64\n",
      "urgency                        string\n",
      "priority                      float64\n",
      "category                       string\n",
      "km_number                      string\n",
      "alert_status                   string\n",
      "#_reassignments               float64\n",
      "open_time                      string\n",
      "resolved_time                  string\n",
      "close_time                     string\n",
      "handle_time_hours_             string\n",
      "closure_code                   string\n",
      "#_related_interactions        float64\n",
      "related_interaction            string\n",
      "ci_name_cby_                   string\n",
      "ci_type_cby_                   string\n",
      "ci_subtype_cby_                string\n",
      "servicecomp_wbs_cby_           string\n",
      "dtype: object\n"
     ]
    }
   ],
   "source": [
    "df_incidente = missing_treatment(df_incidente)\n",
    "print(f'Attributes type\\n{df_incidente.dtypes}')"
   ]
  },
  {
   "cell_type": "code",
   "execution_count": 7,
   "id": "b6a6854d-d91e-4142-87fb-32407b9ff683",
   "metadata": {},
   "outputs": [],
   "source": [
    "df_incidente.to_csv('cleaning_dataset/Detail_Incident.csv', sep=';', encoding='utf-8', index=False)"
   ]
  },
  {
   "cell_type": "markdown",
   "id": "133ad256-3fb5-416f-9182-89186fb53f84",
   "metadata": {},
   "source": [
    "### Tabela Atividades Incidente"
   ]
  },
  {
   "cell_type": "code",
   "execution_count": 8,
   "id": "98c8db46-30e3-4067-84ad-27dea6df8235",
   "metadata": {},
   "outputs": [
    {
     "name": "stdout",
     "output_type": "stream",
     "text": [
      "Attributes type\n",
      "incident_id                object\n",
      "datestamp                  object\n",
      "incidentactivity_number    object\n",
      "incidentactivity_type      object\n",
      "assignment_group           object\n",
      "km_number                  object\n",
      "interaction_id             object\n",
      "dtype: object\n"
     ]
    }
   ],
   "source": [
    "df_atividades_incidente = load_data('dataset/Detail_Incident_Activity.csv', sep=';')\n",
    "print(f'Attributes type\\n{df_atividades_incidente.dtypes}')"
   ]
  },
  {
   "cell_type": "code",
   "execution_count": 9,
   "id": "fb7e929c-9011-4f05-a190-dc3fca173c55",
   "metadata": {},
   "outputs": [
    {
     "name": "stdout",
     "output_type": "stream",
     "text": [
      "Before Missing Values\n",
      "                         0    1\n",
      "incident_id              0  0.0\n",
      "datestamp                0  0.0\n",
      "incidentactivity_number  0  0.0\n",
      "incidentactivity_type    0  0.0\n",
      "assignment_group         0  0.0\n",
      "km_number                0  0.0\n",
      "interaction_id           0  0.0\n",
      "After Missing Values\n",
      "                         0    1\n",
      "incident_id              0  0.0\n",
      "datestamp                0  0.0\n",
      "incidentactivity_number  0  0.0\n",
      "incidentactivity_type    0  0.0\n",
      "assignment_group         0  0.0\n",
      "km_number                0  0.0\n",
      "interaction_id           0  0.0\n",
      "\n",
      "Percent missing value removed: 0.00%\n",
      "\n",
      "Attributes type\n",
      "incident_id                string\n",
      "datestamp                  string\n",
      "incidentactivity_number    string\n",
      "incidentactivity_type      string\n",
      "assignment_group           string\n",
      "km_number                  string\n",
      "interaction_id             string\n",
      "dtype: object\n"
     ]
    }
   ],
   "source": [
    "df_atividades_incidente = missing_treatment(df_atividades_incidente)\n",
    "print(f'Attributes type\\n{df_atividades_incidente.dtypes}')"
   ]
  },
  {
   "cell_type": "code",
   "execution_count": 10,
   "id": "9b3d4d39-7ac6-495a-a74f-e2b223068c83",
   "metadata": {},
   "outputs": [],
   "source": [
    "df_atividades_incidente.to_csv('cleaning_dataset/Detail_Incident_Activity.csv', sep=';', encoding='utf-8', index=False)"
   ]
  },
  {
   "cell_type": "markdown",
   "id": "cd7600ea-f21b-4bf0-b755-3ab62618cf1a",
   "metadata": {},
   "source": [
    "### Tabela Mudanças"
   ]
  },
  {
   "cell_type": "code",
   "execution_count": 11,
   "id": "e98110c0-c5f5-477b-8196-4ff71579d148",
   "metadata": {},
   "outputs": [
    {
     "name": "stdout",
     "output_type": "stream",
     "text": [
      "Attributes type\n",
      "ci_name_aff_                   object\n",
      "ci_type_aff_                   object\n",
      "ci_subtype_aff_                object\n",
      "service_component_wbs_aff_     object\n",
      "change_id                      object\n",
      "change_type                    object\n",
      "risk_assessment                object\n",
      "emergency_change               object\n",
      "cab_approval_needed            object\n",
      "planned_start                  object\n",
      "planned_end                    object\n",
      "scheduled_downtime_start       object\n",
      "scheduled_downtime_end         object\n",
      "actual_start                   object\n",
      "actual_end                     object\n",
      "requested_end_date             object\n",
      "change_record_open_time        object\n",
      "change_record_close_time       object\n",
      "originated_from                object\n",
      "#_related_interactions        float64\n",
      "#_related_incidents           float64\n",
      "dtype: object\n"
     ]
    }
   ],
   "source": [
    "df_mudancas = load_data('dataset/Detail_Change.csv', sep=';')\n",
    "print(f'Attributes type\\n{df_mudancas.dtypes}')"
   ]
  },
  {
   "cell_type": "code",
   "execution_count": 12,
   "id": "23095f4f-2e3c-4710-bead-99952cc86dba",
   "metadata": {},
   "outputs": [
    {
     "name": "stdout",
     "output_type": "stream",
     "text": [
      "Before Missing Values\n",
      "                                0          1\n",
      "ci_name_aff_                    0   0.000000\n",
      "ci_type_aff_                    0   0.000000\n",
      "ci_subtype_aff_                 0   0.000000\n",
      "service_component_wbs_aff_      0   0.000000\n",
      "change_id                       0   0.000000\n",
      "change_type                     0   0.000000\n",
      "risk_assessment                 0   0.000000\n",
      "emergency_change                0   0.000000\n",
      "cab_approval_needed             0   0.000000\n",
      "planned_start                   0   0.000000\n",
      "planned_end                    43   0.142031\n",
      "scheduled_downtime_start    29520  97.506193\n",
      "scheduled_downtime_end      29531  97.542527\n",
      "actual_start                 3258  10.761354\n",
      "actual_end                   3261  10.771263\n",
      "requested_end_date              0   0.000000\n",
      "change_record_open_time         0   0.000000\n",
      "change_record_close_time        0   0.000000\n",
      "originated_from                 0   0.000000\n",
      "#_related_interactions      30273  99.993394\n",
      "#_related_incidents         28327  93.565648\n",
      "After Missing Values\n",
      "                            0    1\n",
      "ci_name_aff_                0  0.0\n",
      "ci_type_aff_                0  0.0\n",
      "ci_subtype_aff_             0  0.0\n",
      "service_component_wbs_aff_  0  0.0\n",
      "change_id                   0  0.0\n",
      "change_type                 0  0.0\n",
      "risk_assessment             0  0.0\n",
      "emergency_change            0  0.0\n",
      "cab_approval_needed         0  0.0\n",
      "planned_start               0  0.0\n",
      "planned_end                 0  0.0\n",
      "actual_start                0  0.0\n",
      "actual_end                  0  0.0\n",
      "requested_end_date          0  0.0\n",
      "change_record_open_time     0  0.0\n",
      "change_record_close_time    0  0.0\n",
      "originated_from             0  0.0\n",
      "\n",
      "Percent missing value removed: 10.78%\n",
      "\n",
      "Attributes type\n",
      "ci_name_aff_                  string\n",
      "ci_type_aff_                  string\n",
      "ci_subtype_aff_               string\n",
      "service_component_wbs_aff_    string\n",
      "change_id                     string\n",
      "change_type                   string\n",
      "risk_assessment               string\n",
      "emergency_change              string\n",
      "cab_approval_needed           string\n",
      "planned_start                 string\n",
      "planned_end                   string\n",
      "actual_start                  string\n",
      "actual_end                    string\n",
      "requested_end_date            string\n",
      "change_record_open_time       string\n",
      "change_record_close_time      string\n",
      "originated_from               string\n",
      "dtype: object\n"
     ]
    }
   ],
   "source": [
    "df_mudancas = missing_treatment(df_mudancas)\n",
    "print(f'Attributes type\\n{df_mudancas.dtypes}')"
   ]
  },
  {
   "cell_type": "code",
   "execution_count": 13,
   "id": "eb47621a-b095-471e-b2a0-5b667315bf68",
   "metadata": {},
   "outputs": [],
   "source": [
    "df_mudancas.to_csv('cleaning_dataset/Detail_Change.csv', sep=';', encoding='utf-8', index=False)"
   ]
  }
 ],
 "metadata": {
  "environment": {
   "name": "common-cpu.m80",
   "type": "gcloud",
   "uri": "gcr.io/deeplearning-platform-release/base-cpu:m80"
  },
  "kernelspec": {
   "display_name": "Python 3",
   "language": "python",
   "name": "python3"
  },
  "language_info": {
   "codemirror_mode": {
    "name": "ipython",
    "version": 3
   },
   "file_extension": ".py",
   "mimetype": "text/x-python",
   "name": "python",
   "nbconvert_exporter": "python",
   "pygments_lexer": "ipython3",
   "version": "3.7.10"
  }
 },
 "nbformat": 4,
 "nbformat_minor": 5
}
