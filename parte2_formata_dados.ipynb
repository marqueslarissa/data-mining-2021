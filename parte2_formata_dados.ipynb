{
 "cells": [
  {
   "cell_type": "markdown",
   "id": "3c9ec09a-2331-497b-a90b-3132ae2d790d",
   "metadata": {},
   "source": [
    "# Pré processamento da coleção de dados\n",
    "\n",
    "Aplicação de técnicas de pré processamento de dados para ser possível uma pré-análise dos dados enquanto ocore a transformação para dados padronizados e normalizados.\n",
    "\n",
    "\n",
    "## Tipos de dados incorretos \n",
    "Cada coluna está atribuída ao tipo de dados correto. Isso pode ser verificado por meio da propriedade `dtypes`.\n",
    "\n",
    "## Dados homogêneos\n",
    "Este aspecto envolve dados categóricos e numéricos. Os dados categóricos devem ter o mesmo estilo de formatação, como minúsculas ou espaço em branco no início e final da string. Os dados numéricos devem ter, por exemplo, o mesmo número de dígitos após o ponto e outras coisas com arredondamento para cima e para baixo.\n"
   ]
  },
  {
   "cell_type": "markdown",
   "id": "05ca91d0-8a2f-4f07-adad-0b70aeefa041",
   "metadata": {},
   "source": [
    "# Parte 2 - Tipos e Formatação dos Dados\n",
    "\n",
    "* Colunas categoricas do tipo objetos foram convertidas em string\n",
    "* Colunas categoricas convertidas para lower case\n",
    "* Remove espaço em branco no começo e no final do registro\n",
    "* Altera valores diferentes para o mesmo conceito: \n",
    "    * usa a função unique() para listar todos os valores de uma coluna \n",
    "    * aplicar uma função que procura por um padrão específico em uma string e então realiza alguma substituição na mesma string se o padrão for encontrado.\n",
    "\n",
    "> no caso foi utilizado padrões analisados através da função unique() tais como:\n",
    "> * '5 - very low' na coluna 'urgency', que também ajudou a identificar melhor a escala de urgência;\n",
    "> * também foi identificado algumas colunas de datas e convertido seus tipos;"
   ]
  },
  {
   "cell_type": "code",
   "execution_count": 1,
   "id": "6ef70422-dd61-434b-b30f-bad5b9e51043",
   "metadata": {},
   "outputs": [],
   "source": [
    "from fun_dependencies import *\n",
    "\n",
    "#load data\n",
    "df_interacao = load_data('cleaning_dataset/pt1/Detail_Interaction_pt1.csv', sep=';')\n",
    "df_incidente = load_data('cleaning_dataset/pt1/Detail_Incident_pt1.csv', sep=';')\n",
    "df_atividades_incidente = load_data('cleaning_dataset/pt1/Detail_Incident_Activity_pt1.csv', sep=';')\n",
    "df_mudancas = load_data('cleaning_dataset/pt1/Detail_Change_pt1.csv', sep=';')"
   ]
  },
  {
   "cell_type": "markdown",
   "id": "d711f3fb-8493-48e7-8e75-0d0f975fbcd3",
   "metadata": {},
   "source": [
    "### Tabela Interacao"
   ]
  },
  {
   "cell_type": "code",
   "execution_count": 2,
   "id": "17da83a6-5d5a-4182-b49b-071c448c65ca",
   "metadata": {},
   "outputs": [],
   "source": [
    "%%capture cap --no-stderr\n",
    "print(\"---------------------------------------Table: Interacao---------------------------------------\\n\")\n",
    "print(f'Attributes type\\n{df_interacao.dtypes}\\n')\n",
    "df_interacao = data_formatting(df_interacao)\n",
    "print(f'Attributes type\\n{df_interacao.dtypes}\\n')"
   ]
  },
  {
   "cell_type": "code",
   "execution_count": 3,
   "id": "1f77f60f-9a67-446e-a50c-d4e8989814df",
   "metadata": {},
   "outputs": [],
   "source": [
    "with open('output/output_pt2.txt', 'w') as f:\n",
    "    f.write(cap.stdout)"
   ]
  },
  {
   "cell_type": "markdown",
   "id": "18fa7a09-ef4f-420d-8294-a1845d6d8a6f",
   "metadata": {},
   "source": [
    "### Tabela Incidente"
   ]
  },
  {
   "cell_type": "code",
   "execution_count": 4,
   "id": "05b6305d-2c3f-4e6b-bd71-a87d5569ffc0",
   "metadata": {},
   "outputs": [],
   "source": [
    "%%capture cap --no-stderr\n",
    "print(\"---------------------------------------Table: Incidente---------------------------------------\\n\")\n",
    "print(f'Attributes type\\n{df_incidente.dtypes}\\n')\n",
    "df_incidente = data_formatting(df_incidente)\n",
    "print(f'Attributes type\\n{df_incidente.dtypes}\\n')"
   ]
  },
  {
   "cell_type": "code",
   "execution_count": 5,
   "id": "50e1c9d4-0a54-42e3-96c2-89efec120cb6",
   "metadata": {},
   "outputs": [],
   "source": [
    "with open('output/output_pt2.txt', 'a') as f:\n",
    "    f.write(cap.stdout)"
   ]
  },
  {
   "cell_type": "markdown",
   "id": "133ad256-3fb5-416f-9182-89186fb53f84",
   "metadata": {},
   "source": [
    "### Tabela Atividades Incidente"
   ]
  },
  {
   "cell_type": "code",
   "execution_count": 6,
   "id": "fb7e929c-9011-4f05-a190-dc3fca173c55",
   "metadata": {},
   "outputs": [],
   "source": [
    "%%capture cap --no-stderr\n",
    "print(\"---------------------------------------Table: Atividades Incidente---------------------------------------\\n\")\n",
    "print(f'Attributes type\\n{df_atividades_incidente.dtypes}\\n')\n",
    "df_atividades_incidente = data_formatting(df_atividades_incidente)\n",
    "print(f'Attributes type\\n{df_atividades_incidente.dtypes}\\n')"
   ]
  },
  {
   "cell_type": "code",
   "execution_count": 7,
   "id": "353f331e-2508-4bae-af17-abd8a7f0b9f3",
   "metadata": {},
   "outputs": [],
   "source": [
    "with open('output/output_pt2.txt', 'a') as f:\n",
    "    f.write(cap.stdout)"
   ]
  },
  {
   "cell_type": "markdown",
   "id": "cd7600ea-f21b-4bf0-b755-3ab62618cf1a",
   "metadata": {},
   "source": [
    "### Tabela Mudanças"
   ]
  },
  {
   "cell_type": "code",
   "execution_count": 8,
   "id": "23095f4f-2e3c-4710-bead-99952cc86dba",
   "metadata": {},
   "outputs": [],
   "source": [
    "%%capture cap --no-stderr\n",
    "print(\"---------------------------------------Table: Mudancas---------------------------------------\\n\")\n",
    "print(f'Attributes type\\n{df_mudancas.dtypes}\\n')\n",
    "df_mudancas = data_formatting(df_mudancas)\n",
    "print(f'Attributes type\\n{df_mudancas.dtypes}\\n')"
   ]
  },
  {
   "cell_type": "code",
   "execution_count": 9,
   "id": "9ed19fb0-d134-4234-a03a-e3241ea96d5f",
   "metadata": {},
   "outputs": [],
   "source": [
    "with open('output/output_pt2.txt', 'a') as f:\n",
    "    f.write(cap.stdout)"
   ]
  },
  {
   "cell_type": "code",
   "execution_count": 10,
   "id": "eb47621a-b095-471e-b2a0-5b667315bf68",
   "metadata": {},
   "outputs": [],
   "source": [
    "df_interacao.to_csv('cleaning_dataset/pt2/Detail_Interaction_pt2.csv', sep=';', encoding='utf-8', index=False)\n",
    "df_incidente.to_csv('cleaning_dataset/pt2/Detail_Incident_pt2.csv', sep=';', encoding='utf-8', index=False)\n",
    "df_atividades_incidente.to_csv('cleaning_dataset/pt2/Detail_Incident_Activity_pt2.csv', sep=';', encoding='utf-8', index=False)\n",
    "df_mudancas.to_csv('cleaning_dataset/pt2/Detail_Change_pt2.csv', sep=';', encoding='utf-8', index=False)"
   ]
  }
 ],
 "metadata": {
  "environment": {
   "name": "common-cpu.m80",
   "type": "gcloud",
   "uri": "gcr.io/deeplearning-platform-release/base-cpu:m80"
  },
  "kernelspec": {
   "display_name": "Python 3",
   "language": "python",
   "name": "python3"
  },
  "language_info": {
   "codemirror_mode": {
    "name": "ipython",
    "version": 3
   },
   "file_extension": ".py",
   "mimetype": "text/x-python",
   "name": "python",
   "nbconvert_exporter": "python",
   "pygments_lexer": "ipython3",
   "version": "3.7.10"
  }
 },
 "nbformat": 4,
 "nbformat_minor": 5
}
